{
 "cells": [
  {
   "cell_type": "code",
   "execution_count": 4,
   "metadata": {},
   "outputs": [],
   "source": [
    "x = 7\n",
    "if x < 6:\n",
    "    print('x smaller than 6')   "
   ]
  },
  {
   "cell_type": "code",
   "execution_count": 2,
   "metadata": {},
   "outputs": [
    {
     "name": "stdout",
     "output_type": "stream",
     "text": [
      "x greter than or equal to 6\n"
     ]
    }
   ],
   "source": [
    "if x < 6:\n",
    "    print('x smaller than 6')  \n",
    "else:\n",
    "    print('x greter than or equal to 6')"
   ]
  },
  {
   "cell_type": "code",
   "execution_count": 6,
   "metadata": {},
   "outputs": [
    {
     "name": "stdout",
     "output_type": "stream",
     "text": [
      "color unknown\n"
     ]
    }
   ],
   "source": [
    "color = 'red'\n",
    "if color == 'red':\n",
    "    print('color is red')\n",
    "elif color == 'blue':\n",
    "    print('color is blue')\n",
    "else:\n",
    "    print('color unknown')"
   ]
  },
  {
   "cell_type": "code",
   "execution_count": 4,
   "metadata": {},
   "outputs": [
    {
     "name": "stdout",
     "output_type": "stream",
     "text": [
      "color is red and x is smaller than 10\n"
     ]
    }
   ],
   "source": [
    "if color == 'red':\n",
    "    if(x < 10):\n",
    "        print('color is red and x is smaller than 10')"
   ]
  },
  {
   "cell_type": "code",
   "execution_count": 5,
   "metadata": {},
   "outputs": [
    {
     "name": "stdout",
     "output_type": "stream",
     "text": [
      "color is red and x is smaller than 10\n"
     ]
    }
   ],
   "source": [
    "if color == 'red' and x < 10:\n",
    "    print('color is red and x is smaller than 10')"
   ]
  },
  {
   "cell_type": "code",
   "execution_count": 6,
   "metadata": {},
   "outputs": [
    {
     "name": "stdout",
     "output_type": "stream",
     "text": [
      "current person:  John\n",
      "current person:  Sara\n",
      "current person:  Tim\n",
      "current person:  Bob\n"
     ]
    }
   ],
   "source": [
    "people = ['John', 'Sara', 'Tim', 'Bob']\n",
    "for person in people:\n",
    "    print('current person: ', person)"
   ]
  },
  {
   "cell_type": "code",
   "execution_count": 7,
   "metadata": {},
   "outputs": [
    {
     "name": "stdout",
     "output_type": "stream",
     "text": [
      "current person:  John\n",
      "current person:  Sara\n",
      "current person:  Tim\n",
      "current person:  Bob\n"
     ]
    }
   ],
   "source": [
    "for i in range(len(people)):\n",
    "    print('current person: ', people[i])"
   ]
  },
  {
   "cell_type": "code",
   "execution_count": 8,
   "metadata": {},
   "outputs": [
    {
     "name": "stdout",
     "output_type": "stream",
     "text": [
      "0\n",
      "1\n",
      "2\n",
      "3\n",
      "4\n",
      "5\n",
      "6\n",
      "7\n",
      "8\n",
      "9\n"
     ]
    }
   ],
   "source": [
    "for i in range(0,10):\n",
    "    print(i)"
   ]
  },
  {
   "cell_type": "code",
   "execution_count": 9,
   "metadata": {},
   "outputs": [
    {
     "name": "stdout",
     "output_type": "stream",
     "text": [
      "count:  0\n",
      "count:  1\n",
      "count:  2\n",
      "count:  3\n",
      "count:  4\n",
      "count:  5\n"
     ]
    }
   ],
   "source": [
    "count = 0\n",
    "while count <= 10:\n",
    "    print('count: ', count)\n",
    "    if count == 5:\n",
    "        break;\n",
    "    count += 1 # Python does not use ++ or --"
   ]
  }
 ],
 "metadata": {
  "kernelspec": {
   "display_name": "Python 3 (ipykernel)",
   "language": "python",
   "name": "python3"
  },
  "language_info": {
   "codemirror_mode": {
    "name": "ipython",
    "version": 3
   },
   "file_extension": ".py",
   "mimetype": "text/x-python",
   "name": "python",
   "nbconvert_exporter": "python",
   "pygments_lexer": "ipython3",
   "version": "3.7.11"
  }
 },
 "nbformat": 4,
 "nbformat_minor": 2
}
