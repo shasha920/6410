{
 "cells": [
  {
   "cell_type": "markdown",
   "id": "5914ed5b",
   "metadata": {},
   "source": [
    "### Data Collection : Dataset from sklearn.dataset"
   ]
  },
  {
   "cell_type": "code",
   "execution_count": 1,
   "id": "1c03183f",
   "metadata": {},
   "outputs": [
    {
     "data": {
      "text/plain": [
       "dict_keys(['data', 'filenames', 'target_names', 'target', 'DESCR'])"
      ]
     },
     "execution_count": 1,
     "metadata": {},
     "output_type": "execute_result"
    }
   ],
   "source": [
    "# Import dataset module.\n",
    "from sklearn.datasets import fetch_20newsgroups\n",
    "\n",
    "# Fetch 20 news groups training dataset.\n",
    "# subset : Select \"test\" or \"train\" dataset.\n",
    "#          We extract \"train\" dataset. \n",
    "news_groups_train = fetch_20newsgroups(subset=\"train\")\n",
    "\n",
    "# Show keys. \n",
    "# data        : Article data\n",
    "# target_names: Category names. \n",
    "# target      : Labeled(categorized) data. Labeled in replaced numbers. \n",
    "news_groups_train.keys()"
   ]
  },
  {
   "cell_type": "code",
   "execution_count": 2,
   "id": "8baf2672",
   "metadata": {},
   "outputs": [
    {
     "data": {
      "text/plain": [
       "\"From: lerxst@wam.umd.edu (where's my thing)\\nSubject: WHAT car is this!?\\nNntp-Posting-Host: rac3.wam.umd.edu\\nOrganization: University of Maryland, College Park\\nLines: 15\\n\\n I was wondering if anyone out there could enlighten me on this car I saw\\nthe other day. It was a 2-door sports car, looked to be from the late 60s/\\nearly 70s. It was called a Bricklin. The doors were really small. In addition,\\nthe front bumper was separate from the rest of the body. This is \\nall I know. If anyone can tellme a model name, engine specs, years\\nof production, where this car is made, history, or whatever info you\\nhave on this funky looking car, please e-mail.\\n\\nThanks,\\n- IL\\n   ---- brought to you by your neighborhood Lerxst ----\\n\\n\\n\\n\\n\""
      ]
     },
     "execution_count": 2,
     "metadata": {},
     "output_type": "execute_result"
    }
   ],
   "source": [
    "# Get article content.\n",
    "news_groups_train.data[0]"
   ]
  },
  {
   "cell_type": "code",
   "execution_count": 3,
   "id": "c1115c3c",
   "metadata": {},
   "outputs": [
    {
     "data": {
      "text/plain": [
       "array([7, 4, 4, ..., 3, 1, 8])"
      ]
     },
     "execution_count": 3,
     "metadata": {},
     "output_type": "execute_result"
    }
   ],
   "source": [
    "# Get numerically labeled number of category.\n",
    "news_groups_train.target"
   ]
  },
  {
   "cell_type": "code",
   "execution_count": 4,
   "id": "8a563fce",
   "metadata": {},
   "outputs": [
    {
     "data": {
      "text/plain": [
       "['alt.atheism',\n",
       " 'comp.graphics',\n",
       " 'comp.os.ms-windows.misc',\n",
       " 'comp.sys.ibm.pc.hardware',\n",
       " 'comp.sys.mac.hardware',\n",
       " 'comp.windows.x',\n",
       " 'misc.forsale',\n",
       " 'rec.autos',\n",
       " 'rec.motorcycles',\n",
       " 'rec.sport.baseball',\n",
       " 'rec.sport.hockey',\n",
       " 'sci.crypt',\n",
       " 'sci.electronics',\n",
       " 'sci.med',\n",
       " 'sci.space',\n",
       " 'soc.religion.christian',\n",
       " 'talk.politics.guns',\n",
       " 'talk.politics.mideast',\n",
       " 'talk.politics.misc',\n",
       " 'talk.religion.misc']"
      ]
     },
     "execution_count": 4,
     "metadata": {},
     "output_type": "execute_result"
    }
   ],
   "source": [
    "# Get target(category) names.\n",
    "news_groups_train.target_names"
   ]
  },
  {
   "cell_type": "markdown",
   "id": "b41f045d",
   "metadata": {},
   "source": [
    "### Transforming from text to vector : TF-IDF vectorization"
   ]
  },
  {
   "cell_type": "code",
   "execution_count": 5,
   "id": "47ffab8f",
   "metadata": {},
   "outputs": [],
   "source": [
    "# Import CountVectorizer class. \n",
    "# CountVectorizer converts text data to matrix of token counts.\n",
    "from sklearn.feature_extraction.text import CountVectorizer\n",
    "count_vector = CountVectorizer()\n",
    "\n",
    "# fit_transform() creates dictionary and return term-document matrix.\n",
    "X_train_counts = count_vector.fit_transform(news_groups_train.data)\n",
    "\n",
    "# Import TfidfTransformer class.\n",
    "# TfidfTransformer transoforms count matrix to tf-idf representation.\n",
    "from sklearn.feature_extraction.text import TfidfTransformer\n",
    "tfidf_transformer = TfidfTransformer()\n",
    "\n",
    "# fit_transform transforms count matrix to tf-idf representation(vector).\n",
    "X_train_tfidf = tfidf_transformer.fit_transform(X_train_counts)"
   ]
  },
  {
   "cell_type": "markdown",
   "id": "2cf88cd6",
   "metadata": {},
   "source": [
    "### Create naive baeys classifier model"
   ]
  },
  {
   "cell_type": "code",
   "execution_count": 6,
   "id": "9c765986",
   "metadata": {},
   "outputs": [],
   "source": [
    "# Create model(naive bayes) and training. \n",
    "from sklearn.naive_bayes import MultinomialNB\n",
    "clf = MultinomialNB().fit(X_train_tfidf, news_groups_train.target)"
   ]
  },
  {
   "cell_type": "markdown",
   "id": "5d2ea287",
   "metadata": {},
   "source": [
    "### Run Classification & check results"
   ]
  },
  {
   "cell_type": "code",
   "execution_count": 7,
   "id": "d5c935dd",
   "metadata": {},
   "outputs": [
    {
     "name": "stdout",
     "output_type": "stream",
     "text": [
      "God is love => soc.religion.christian\n",
      "OpenGL on the GPU is fast => rec.autos\n",
      "United states goes to Iraq => talk.politics.mideast\n"
     ]
    }
   ],
   "source": [
    "# Create test documents.\n",
    "docs_new = [\n",
    "    'God is love', \n",
    "    'OpenGL on the GPU is fast', \n",
    "    \"United states goes to Iraq\",\n",
    "]\n",
    "\n",
    "# Transfroming.\n",
    "X_new_counts = count_vector.transform(docs_new)\n",
    "X_new_tfidf = tfidf_transformer.transform(X_new_counts)\n",
    "\n",
    "# Execute prediction(classification).\n",
    "predicted = clf.predict(X_new_tfidf)\n",
    "\n",
    "# Show predicted data.\n",
    "for doc, category in zip(docs_new, predicted):\n",
    "    print(\"{0} => {1}\".format(doc, news_groups_train.target_names[category]))"
   ]
  }
 ],
 "metadata": {
  "kernelspec": {
   "display_name": "venvtext",
   "language": "python",
   "name": "venvtext"
  },
  "language_info": {
   "codemirror_mode": {
    "name": "ipython",
    "version": 3
   },
   "file_extension": ".py",
   "mimetype": "text/x-python",
   "name": "python",
   "nbconvert_exporter": "python",
   "pygments_lexer": "ipython3",
   "version": "3.9.12"
  }
 },
 "nbformat": 4,
 "nbformat_minor": 5
}
