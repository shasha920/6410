{
 "cells": [
  {
   "cell_type": "code",
   "execution_count": 1,
   "metadata": {},
   "outputs": [],
   "source": [
    "%matplotlib inline\n",
    "import numpy as np"
   ]
  },
  {
   "cell_type": "markdown",
   "metadata": {},
   "source": [
    "\n",
    "# Classification of text documents using sparse features\n",
    "\n",
    "This is an example showing how scikit-learn can be used to classify documents\n",
    "by topics using a bag-of-words approach. This example uses a scipy.sparse\n",
    "matrix to store the features and demonstrates various classifiers that can\n",
    "efficiently handle sparse matrices.\n",
    "\n",
    "The dataset used in this example is the 20 newsgroups dataset. It will be\n",
    "automatically downloaded, then cached.\n"
   ]
  },
  {
   "cell_type": "code",
   "execution_count": 2,
   "metadata": {},
   "outputs": [],
   "source": [
    "# Author: Peter Prettenhofer <peter.prettenhofer@gmail.com>\n",
    "#         Olivier Grisel <olivier.grisel@ensta.org>\n",
    "#         Mathieu Blondel <mathieu@mblondel.org>\n",
    "#         Lars Buitinck\n",
    "# License: BSD 3 clause"
   ]
  },
  {
   "cell_type": "markdown",
   "metadata": {},
   "source": [
    "## Configuration options for the analysis\n",
    "\n"
   ]
  },
  {
   "cell_type": "code",
   "execution_count": 3,
   "metadata": {},
   "outputs": [],
   "source": [
    "# If True, we use `HashingVectorizer`, otherwise we use a `TfidfVectorizer`\n",
    "USE_HASHING = False\n",
    "\n",
    "# Number of features used by `HashingVectorizer`\n",
    "N_FEATURES = 2**16\n",
    "\n",
    "# Optional feature selection: either False, or an integer: the number of\n",
    "# features to select\n",
    "SELECT_CHI2 = False"
   ]
  },
  {
   "cell_type": "markdown",
   "metadata": {},
   "source": [
    "## Load data from the training set\n",
    "Let's load data from the newsgroups dataset which comprises around 18000\n",
    "newsgroups posts on 20 topics split in two subsets: one for training (or\n",
    "development) and the other one for testing (or for performance evaluation).\n",
    "\n"
   ]
  },
  {
   "cell_type": "code",
   "execution_count": 4,
   "metadata": {},
   "outputs": [
    {
     "name": "stdout",
     "output_type": "stream",
     "text": [
      "data loaded\n",
      "2034 documents - 3.980MB (training set)\n",
      "1353 documents - 2.867MB (test set)\n",
      "4 categories\n"
     ]
    }
   ],
   "source": [
    "from sklearn.datasets import fetch_20newsgroups\n",
    "\n",
    "categories = [\n",
    "    \"alt.atheism\",\n",
    "    \"talk.religion.misc\",\n",
    "    \"comp.graphics\",\n",
    "    \"sci.space\",\n",
    "]\n",
    "\n",
    "data_train = fetch_20newsgroups(\n",
    "    subset=\"train\", categories=categories, shuffle=True, random_state=42\n",
    ")\n",
    "\n",
    "data_test = fetch_20newsgroups(\n",
    "    subset=\"test\", categories=categories, shuffle=True, random_state=42\n",
    ")\n",
    "print(\"data loaded\")\n",
    "\n",
    "# order of labels in `target_names` can be different from `categories`\n",
    "target_names = data_train.target_names\n",
    "\n",
    "\n",
    "def size_mb(docs):\n",
    "    return sum(len(s.encode(\"utf-8\")) for s in docs) / 1e6\n",
    "\n",
    "\n",
    "data_train_size_mb = size_mb(data_train.data)\n",
    "data_test_size_mb = size_mb(data_test.data)\n",
    "\n",
    "print(\n",
    "    \"%d documents - %0.3fMB (training set)\" % (len(data_train.data), data_train_size_mb)\n",
    ")\n",
    "print(\"%d documents - %0.3fMB (test set)\" % (len(data_test.data), data_test_size_mb))\n",
    "print(\"%d categories\" % len(target_names))"
   ]
  },
  {
   "cell_type": "markdown",
   "metadata": {},
   "source": [
    "## Vectorize the training and test data\n",
    "\n",
    "split a training set and a test set\n",
    "\n"
   ]
  },
  {
   "cell_type": "code",
   "execution_count": 5,
   "metadata": {},
   "outputs": [],
   "source": [
    "y_train, y_test = data_train.target, data_test.target"
   ]
  },
  {
   "cell_type": "markdown",
   "metadata": {},
   "source": [
    "Extracting features from the training data using a sparse vectorizer\n",
    "\n"
   ]
  },
  {
   "cell_type": "code",
   "execution_count": 6,
   "metadata": {},
   "outputs": [
    {
     "name": "stdout",
     "output_type": "stream",
     "text": [
      "done in 0.388323s at 10.248MB/s\n",
      "n_samples: 2034, n_features: 33809\n"
     ]
    }
   ],
   "source": [
    "from time import time\n",
    "\n",
    "from sklearn.feature_extraction.text import TfidfVectorizer\n",
    "from sklearn.feature_extraction.text import HashingVectorizer\n",
    "\n",
    "t0 = time()\n",
    "\n",
    "if USE_HASHING:\n",
    "    vectorizer = HashingVectorizer(\n",
    "        stop_words=\"english\", alternate_sign=False, n_features=N_FEATURES\n",
    "    )\n",
    "    X_train = vectorizer.transform(data_train.data)\n",
    "else:\n",
    "    vectorizer = TfidfVectorizer(sublinear_tf=True, max_df=0.5, stop_words=\"english\")\n",
    "    X_train = vectorizer.fit_transform(data_train.data)\n",
    "duration = time() - t0\n",
    "print(\"done in %fs at %0.3fMB/s\" % (duration, data_train_size_mb / duration))\n",
    "print(\"n_samples: %d, n_features: %d\" % X_train.shape)"
   ]
  },
  {
   "cell_type": "markdown",
   "metadata": {},
   "source": [
    "Extracting features from the test data using the same vectorizer\n",
    "\n"
   ]
  },
  {
   "cell_type": "code",
   "execution_count": 7,
   "metadata": {},
   "outputs": [
    {
     "name": "stdout",
     "output_type": "stream",
     "text": [
      "done in 0.255594s at 11.219MB/s\n",
      "n_samples: 1353, n_features: 33809\n"
     ]
    }
   ],
   "source": [
    "t0 = time()\n",
    "X_test = vectorizer.transform(data_test.data)\n",
    "duration = time() - t0\n",
    "print(\"done in %fs at %0.3fMB/s\" % (duration, data_test_size_mb / duration))\n",
    "print(\"n_samples: %d, n_features: %d\" % X_test.shape)"
   ]
  },
  {
   "cell_type": "markdown",
   "metadata": {},
   "source": [
    "mapping from integer feature name to original token string\n",
    "\n"
   ]
  },
  {
   "cell_type": "code",
   "execution_count": 9,
   "metadata": {},
   "outputs": [],
   "source": [
    "if USE_HASHING:\n",
    "    feature_names = None\n",
    "else:\n",
    "    feature_names = vectorizer.get_feature_names_out()\n",
    "    feature_names=np.array(feature_names) ###"
   ]
  },
  {
   "cell_type": "markdown",
   "metadata": {},
   "source": [
    "Keeping only the best features\n",
    "\n"
   ]
  },
  {
   "cell_type": "code",
   "execution_count": 10,
   "metadata": {},
   "outputs": [],
   "source": [
    "from sklearn.feature_selection import SelectKBest, chi2\n",
    "\n",
    "if SELECT_CHI2:\n",
    "    print(\"Extracting %d best features by a chi-squared test\" % SELECT_CHI2)\n",
    "    t0 = time()\n",
    "    ch2 = SelectKBest(chi2, k=SELECT_CHI2)\n",
    "    X_train = ch2.fit_transform(X_train, y_train)\n",
    "    X_test = ch2.transform(X_test)\n",
    "    if feature_names is not None:\n",
    "        # keep selected feature names\n",
    "        feature_names = feature_names[ch2.get_support()]\n",
    "    print(\"done in %fs\" % (time() - t0))\n",
    "    print()"
   ]
  },
  {
   "cell_type": "markdown",
   "metadata": {},
   "source": [
    "## Benchmark classifiers\n",
    "\n",
    "First we define small benchmarking utilities\n",
    "\n"
   ]
  },
  {
   "cell_type": "code",
   "execution_count": 11,
   "metadata": {},
   "outputs": [],
   "source": [
    "from sklearn import metrics\n",
    "from sklearn.utils.extmath import density\n",
    "\n",
    "\n",
    "def trim(s):\n",
    "    \"\"\"Trim string to fit on terminal (assuming 80-column display)\"\"\"\n",
    "    return s if len(s) <= 80 else s[:77] + \"...\"\n",
    "\n",
    "\n",
    "def benchmark(clf):\n",
    "    print(\"_\" * 80)\n",
    "    print(\"Training: \")\n",
    "    print(clf)\n",
    "    t0 = time()\n",
    "    clf.fit(X_train, y_train)\n",
    "    train_time = time() - t0\n",
    "    print(\"train time: %0.3fs\" % train_time)\n",
    "\n",
    "    t0 = time()\n",
    "    pred = clf.predict(X_test)\n",
    "    test_time = time() - t0\n",
    "    print(\"test time:  %0.3fs\" % test_time)\n",
    "\n",
    "    score = metrics.accuracy_score(y_test, pred)\n",
    "    print(\"accuracy:   %0.3f\" % score)\n",
    "\n",
    "    if hasattr(clf, \"coef_\"):\n",
    "        print(\"dimensionality: %d\" % clf.coef_.shape[1])\n",
    "        print(\"density: %f\" % density(clf.coef_))\n",
    "\n",
    "        if feature_names is not None:\n",
    "            print(\"top 10 keywords per class:\")\n",
    "            for i, label in enumerate(target_names):\n",
    "                top10 = np.ndarray.argsort(clf.coef_[i])[-10:]\n",
    "                print(trim(\"%s: %s\" % (label, \" \".join(feature_names[top10]))))\n",
    "        print()\n",
    "\n",
    "    print(\"classification report:\")\n",
    "    print(metrics.classification_report(y_test, pred, target_names=target_names))\n",
    "\n",
    "    print(\"confusion matrix:\")\n",
    "    print(metrics.confusion_matrix(y_test, pred))\n",
    "\n",
    "    print()\n",
    "    clf_descr = str(clf).split(\"(\")[0]\n",
    "    return clf_descr, score, train_time, test_time"
   ]
  },
  {
   "cell_type": "markdown",
   "metadata": {},
   "source": [
    "We now train and test the datasets with 15 different classification\n",
    "models and get performance results for each model.\n",
    "\n"
   ]
  },
  {
   "cell_type": "code",
   "execution_count": 12,
   "metadata": {},
   "outputs": [
    {
     "name": "stdout",
     "output_type": "stream",
     "text": [
      "================================================================================\n",
      "Ridge Classifier\n",
      "________________________________________________________________________________\n",
      "Training: \n",
      "RidgeClassifier(solver='sag', tol=0.01)\n",
      "train time: 0.167s\n",
      "test time:  0.002s\n",
      "accuracy:   0.897\n",
      "dimensionality: 33809\n",
      "density: 1.000000\n",
      "top 10 keywords per class:\n",
      "alt.atheism: atheist wingate osrhe god okcforum caltech islamic atheism keith...\n",
      "comp.graphics: animation video looking card hi 3d thanks file image graphics\n",
      "sci.space: dc flight shuttle launch pat moon sci orbit nasa space\n",
      "talk.religion.misc: mitre jesus hudson morality biblical 2000 beast mr fbi ch...\n",
      "\n",
      "classification report:\n",
      "                    precision    recall  f1-score   support\n",
      "\n",
      "       alt.atheism       0.87      0.83      0.85       319\n",
      "     comp.graphics       0.90      0.98      0.94       389\n",
      "         sci.space       0.96      0.94      0.95       394\n",
      "talk.religion.misc       0.83      0.78      0.80       251\n",
      "\n",
      "          accuracy                           0.90      1353\n",
      "         macro avg       0.89      0.88      0.88      1353\n",
      "      weighted avg       0.90      0.90      0.90      1353\n",
      "\n",
      "confusion matrix:\n",
      "[[265  10   7  37]\n",
      " [  1 381   4   3]\n",
      " [  0  22 372   0]\n",
      " [ 40  10   6 195]]\n",
      "\n",
      "================================================================================\n",
      "Random forest\n",
      "________________________________________________________________________________\n",
      "Training: \n",
      "RandomForestClassifier()\n"
     ]
    },
    {
     "name": "stderr",
     "output_type": "stream",
     "text": [
      "C:\\Users\\adminmkoohikamali\\.conda\\envs\\venvtext\\Lib\\site-packages\\sklearn\\linear_model\\_ridge.py:849: UserWarning: \"sag\" solver requires many iterations to fit an intercept with sparse inputs. Either set the solver to \"auto\" or \"sparse_cg\", or set a low \"tol\" and a high \"max_iter\" (especially if inputs are not standardized).\n",
      "  warnings.warn(\n"
     ]
    },
    {
     "name": "stdout",
     "output_type": "stream",
     "text": [
      "train time: 5.092s\n",
      "test time:  0.067s\n",
      "accuracy:   0.838\n",
      "classification report:\n",
      "                    precision    recall  f1-score   support\n",
      "\n",
      "       alt.atheism       0.83      0.75      0.79       319\n",
      "     comp.graphics       0.78      0.98      0.87       389\n",
      "         sci.space       0.95      0.88      0.91       394\n",
      "talk.religion.misc       0.78      0.65      0.71       251\n",
      "\n",
      "          accuracy                           0.84      1353\n",
      "         macro avg       0.84      0.82      0.82      1353\n",
      "      weighted avg       0.84      0.84      0.84      1353\n",
      "\n",
      "confusion matrix:\n",
      "[[240  29   8  42]\n",
      " [  1 383   3   2]\n",
      " [  2  44 347   1]\n",
      " [ 47  33   7 164]]\n",
      "\n",
      "================================================================================\n",
      "L2 penalty\n",
      "________________________________________________________________________________\n",
      "Training: \n",
      "LinearSVC(dual=False, tol=0.001)\n",
      "train time: 1.464s\n",
      "test time:  0.002s\n",
      "accuracy:   0.900\n",
      "dimensionality: 33809\n",
      "density: 1.000000\n",
      "top 10 keywords per class:\n",
      "alt.atheism: rushdie osrhe atheist wingate okcforum caltech islamic atheism k...\n",
      "comp.graphics: code 42 video hi animation thanks 3d file image graphics\n",
      "sci.space: planets dc pat shuttle launch sci moon nasa orbit space\n",
      "talk.religion.misc: abortion hudson 666 biblical 2000 morality mr beast fbi c...\n",
      "\n",
      "classification report:\n",
      "                    precision    recall  f1-score   support\n",
      "\n",
      "       alt.atheism       0.87      0.83      0.85       319\n",
      "     comp.graphics       0.91      0.98      0.95       389\n",
      "         sci.space       0.96      0.95      0.95       394\n",
      "talk.religion.misc       0.83      0.79      0.81       251\n",
      "\n",
      "          accuracy                           0.90      1353\n",
      "         macro avg       0.89      0.89      0.89      1353\n",
      "      weighted avg       0.90      0.90      0.90      1353\n",
      "\n",
      "confusion matrix:\n",
      "[[266   7   8  38]\n",
      " [  2 381   3   3]\n",
      " [  1  20 373   0]\n",
      " [ 38   9   6 198]]\n",
      "\n",
      "________________________________________________________________________________\n",
      "Training: \n",
      "SGDClassifier(max_iter=50)\n",
      "train time: 0.029s\n",
      "test time:  0.002s\n",
      "accuracy:   0.900\n",
      "dimensionality: 33809\n",
      "density: 0.571490\n",
      "top 10 keywords per class:\n",
      "alt.atheism: atheist caltech bible wingate cobb okcforum islamic keith atheis...\n",
      "comp.graphics: card computer 42 hi video 3d animation file image graphics\n",
      "sci.space: planets shuttle launch pat dc sci moon nasa orbit space\n",
      "talk.religion.misc: abortion koresh morality 666 biblical mr beast fbi 2000 c...\n",
      "\n",
      "classification report:\n",
      "                    precision    recall  f1-score   support\n",
      "\n",
      "       alt.atheism       0.87      0.83      0.85       319\n",
      "     comp.graphics       0.92      0.97      0.95       389\n",
      "         sci.space       0.95      0.94      0.95       394\n",
      "talk.religion.misc       0.82      0.81      0.82       251\n",
      "\n",
      "          accuracy                           0.90      1353\n",
      "         macro avg       0.89      0.89      0.89      1353\n",
      "      weighted avg       0.90      0.90      0.90      1353\n",
      "\n",
      "confusion matrix:\n",
      "[[265   5  10  39]\n",
      " [  2 379   4   4]\n",
      " [  3  19 371   1]\n",
      " [ 36   7   5 203]]\n",
      "\n",
      "================================================================================\n",
      "L1 penalty\n",
      "________________________________________________________________________________\n",
      "Training: \n",
      "LinearSVC(dual=False, penalty='l1', tol=0.001)\n",
      "train time: 0.180s\n",
      "test time:  0.001s\n",
      "accuracy:   0.873\n",
      "dimensionality: 33809\n",
      "density: 0.005568\n",
      "top 10 keywords per class:\n",
      "alt.atheism: benedikt rice rushdie wingate bmd islamic atheism wwc keith athe...\n",
      "comp.graphics: sphere virtual 42 files windows hi image 3d 3do graphics\n",
      "sci.space: pat henry rockets sunrise dc launch flight moon orbit space\n",
      "talk.religion.misc: hudson thyagi biblical 2000 abortion kendig hare mitre ch...\n",
      "\n",
      "classification report:\n",
      "                    precision    recall  f1-score   support\n",
      "\n",
      "       alt.atheism       0.85      0.75      0.80       319\n",
      "     comp.graphics       0.89      0.97      0.93       389\n",
      "         sci.space       0.94      0.94      0.94       394\n",
      "talk.religion.misc       0.76      0.78      0.77       251\n",
      "\n",
      "          accuracy                           0.87      1353\n",
      "         macro avg       0.86      0.86      0.86      1353\n",
      "      weighted avg       0.87      0.87      0.87      1353\n",
      "\n",
      "confusion matrix:\n",
      "[[238  14  11  56]\n",
      " [  0 378   7   4]\n",
      " [  2  22 369   1]\n",
      " [ 39  12   4 196]]\n",
      "\n",
      "________________________________________________________________________________\n",
      "Training: \n",
      "SGDClassifier(max_iter=50, penalty='l1')\n",
      "train time: 0.100s\n",
      "test time:  0.002s\n",
      "accuracy:   0.885\n",
      "dimensionality: 33809\n",
      "density: 0.023100\n",
      "top 10 keywords per class:\n",
      "alt.atheism: charley psilink wingate genocide rice rushdie islamic keith athe...\n",
      "comp.graphics: sdsu 42 code 3do files file animation image hi graphics\n",
      "sci.space: rockets spacecraft nasa launch sci flight dc moon orbit space\n",
      "talk.religion.misc: thyagi homosexuality hudson 2000 beast 666 mr abortion ch...\n",
      "\n",
      "classification report:\n",
      "                    precision    recall  f1-score   support\n",
      "\n",
      "       alt.atheism       0.86      0.77      0.82       319\n",
      "     comp.graphics       0.92      0.96      0.94       389\n",
      "         sci.space       0.94      0.95      0.94       394\n",
      "talk.religion.misc       0.77      0.79      0.78       251\n",
      "\n",
      "          accuracy                           0.88      1353\n",
      "         macro avg       0.87      0.87      0.87      1353\n",
      "      weighted avg       0.88      0.88      0.88      1353\n",
      "\n",
      "confusion matrix:\n",
      "[[247   7  12  53]\n",
      " [  1 375   9   4]\n",
      " [  2  14 376   2]\n",
      " [ 37  10   5 199]]\n",
      "\n",
      "________________________________________________________________________________\n",
      "Training: \n",
      "Pipeline(steps=[('feature_selection',\n",
      "                 SelectFromModel(estimator=LinearSVC(dual=False, penalty='l1',\n",
      "                                                     tol=0.001))),\n",
      "                ('classification', LinearSVC())])\n",
      "train time: 0.194s\n",
      "test time:  0.002s\n",
      "accuracy:   0.879\n",
      "classification report:\n",
      "                    precision    recall  f1-score   support\n",
      "\n",
      "       alt.atheism       0.84      0.79      0.82       319\n",
      "     comp.graphics       0.91      0.96      0.93       389\n",
      "         sci.space       0.93      0.95      0.94       394\n",
      "talk.religion.misc       0.80      0.75      0.77       251\n",
      "\n",
      "          accuracy                           0.88      1353\n",
      "         macro avg       0.87      0.86      0.87      1353\n",
      "      weighted avg       0.88      0.88      0.88      1353\n",
      "\n",
      "confusion matrix:\n",
      "[[253  10  13  43]\n",
      " [  2 374   9   4]\n",
      " [  2  18 373   1]\n",
      " [ 44  10   8 189]]\n",
      "\n"
     ]
    }
   ],
   "source": [
    "from sklearn.feature_selection import SelectFromModel\n",
    "from sklearn.linear_model import RidgeClassifier\n",
    "from sklearn.pipeline import Pipeline\n",
    "from sklearn.svm import LinearSVC\n",
    "from sklearn.linear_model import SGDClassifier\n",
    "from sklearn.linear_model import Perceptron\n",
    "from sklearn.linear_model import PassiveAggressiveClassifier\n",
    "from sklearn.naive_bayes import BernoulliNB, ComplementNB, MultinomialNB\n",
    "from sklearn.neighbors import KNeighborsClassifier\n",
    "from sklearn.neighbors import NearestCentroid\n",
    "from sklearn.ensemble import RandomForestClassifier\n",
    "\n",
    "\n",
    "results = []\n",
    "for clf, name in (\n",
    "    (RidgeClassifier(tol=1e-2, solver=\"sag\"), \"Ridge Classifier\"),\n",
    "    #(Perceptron(max_iter=50), \"Perceptron\"),\n",
    "    #(PassiveAggressiveClassifier(max_iter=50), \"Passive-Aggressive\"),\n",
    "    #(KNeighborsClassifier(n_neighbors=10), \"kNN\"),\n",
    "    (RandomForestClassifier(), \"Random forest\"),\n",
    "):\n",
    "    print(\"=\" * 80)\n",
    "    print(name)\n",
    "    results.append(benchmark(clf))\n",
    "\n",
    "for penalty in [\"l2\", \"l1\"]:\n",
    "    print(\"=\" * 80)\n",
    "    print(\"%s penalty\" % penalty.upper())\n",
    "    # Train Liblinear model\n",
    "    results.append(benchmark(LinearSVC(penalty=penalty, dual=False, tol=1e-3)))\n",
    "\n",
    "    # Train SGD model\n",
    "    results.append(benchmark(SGDClassifier(alpha=0.0001, max_iter=50, penalty=penalty)))\n",
    "\n",
    "results.append(\n",
    "    benchmark(\n",
    "        Pipeline(\n",
    "            [\n",
    "                (\n",
    "                    \"feature_selection\",\n",
    "                    SelectFromModel(LinearSVC(penalty=\"l1\", dual=False, tol=1e-3)),\n",
    "                ),\n",
    "                (\"classification\", LinearSVC(penalty=\"l2\")),\n",
    "            ]\n",
    "        )\n",
    "    )\n",
    ")"
   ]
  },
  {
   "cell_type": "markdown",
   "metadata": {},
   "source": [
    "## Add plots\n",
    "The bar plot indicates the accuracy, training time (normalized) and test time\n",
    "(normalized) of each classifier.\n",
    "\n"
   ]
  },
  {
   "cell_type": "code",
   "execution_count": 12,
   "metadata": {},
   "outputs": [],
   "source": [
    "feature_names=np.array(feature_names)"
   ]
  },
  {
   "cell_type": "code",
   "execution_count": 13,
   "metadata": {},
   "outputs": [
    {
     "data": {
      "image/png": "[encoded data removed]",
      "text/plain": [
       "<Figure size 864x576 with 1 Axes>"
      ]
     },
     "metadata": {
      "needs_background": "light"
     },
     "output_type": "display_data"
    }
   ],
   "source": [
    "import matplotlib.pyplot as plt\n",
    "\n",
    "indices = np.arange(len(results))\n",
    "\n",
    "results = [[x[i] for x in results] for i in range(4)]\n",
    "\n",
    "clf_names, score, training_time, test_time = results\n",
    "training_time = np.array(training_time) / np.max(training_time)\n",
    "test_time = np.array(test_time) / np.max(test_time)\n",
    "\n",
    "plt.figure(figsize=(12, 8))\n",
    "plt.title(\"Score\")\n",
    "plt.barh(indices, score, 0.2, label=\"score\", color=\"navy\")\n",
    "plt.barh(indices + 0.3, training_time, 0.2, label=\"training time\", color=\"c\")\n",
    "plt.barh(indices + 0.6, test_time, 0.2, label=\"test time\", color=\"darkorange\")\n",
    "plt.yticks(())\n",
    "plt.legend(loc=\"best\")\n",
    "plt.subplots_adjust(left=0.25)\n",
    "plt.subplots_adjust(top=0.95)\n",
    "plt.subplots_adjust(bottom=0.05)\n",
    "\n",
    "for i, c in zip(indices, clf_names):\n",
    "    plt.text(-0.3, i, c)\n",
    "\n",
    "plt.show()"
   ]
  }
 ],
 "metadata": {
  "kernelspec": {
   "display_name": "Python 3 (ipykernel)",
   "language": "python",
   "name": "python3"
  },
  "language_info": {
   "codemirror_mode": {
    "name": "ipython",
    "version": 3
   },
   "file_extension": ".py",
   "mimetype": "text/x-python",
   "name": "python",
   "nbconvert_exporter": "python",
   "pygments_lexer": "ipython3",
   "version": "3.11.0"
  }
 },
 "nbformat": 4,
 "nbformat_minor": 1
}
