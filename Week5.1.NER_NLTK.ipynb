{
 "cells": [
  {
   "cell_type": "code",
   "execution_count": 1,
   "metadata": {
    "ExecuteTime": {
     "end_time": "2023-02-14T18:13:01.538926Z",
     "start_time": "2023-02-14T18:13:00.536598Z"
    }
   },
   "outputs": [],
   "source": [
    "import nltk"
   ]
  },
  {
   "cell_type": "code",
   "execution_count": 2,
   "metadata": {
    "ExecuteTime": {
     "end_time": "2023-02-14T18:13:02.100021Z",
     "start_time": "2023-02-14T18:13:02.095896Z"
    }
   },
   "outputs": [],
   "source": [
    "paragraph = \"The Statue of Liberty is a colossal neoclassical sculpture on Liberty Island in New York Harbor in New York,\\\n",
    "was designed by French sculptor Frédéric Auguste Bartholdi on October 28, 1886.\""
   ]
  },
  {
   "cell_type": "code",
   "execution_count": 3,
   "metadata": {
    "ExecuteTime": {
     "end_time": "2023-02-14T18:13:02.551908Z",
     "start_time": "2023-02-14T18:13:02.541945Z"
    }
   },
   "outputs": [],
   "source": [
    "words = nltk.word_tokenize(paragraph)"
   ]
  },
  {
   "cell_type": "code",
   "execution_count": 4,
   "metadata": {},
   "outputs": [
    {
     "data": {
      "text/plain": [
       "['The',\n",
       " 'Statue',\n",
       " 'of',\n",
       " 'Liberty',\n",
       " 'is',\n",
       " 'a',\n",
       " 'colossal',\n",
       " 'neoclassical',\n",
       " 'sculpture',\n",
       " 'on',\n",
       " 'Liberty',\n",
       " 'Island',\n",
       " 'in',\n",
       " 'New',\n",
       " 'York',\n",
       " 'Harbor',\n",
       " 'in',\n",
       " 'New',\n",
       " 'York',\n",
       " ',',\n",
       " 'was',\n",
       " 'designed',\n",
       " 'by',\n",
       " 'French',\n",
       " 'sculptor',\n",
       " 'Frédéric',\n",
       " 'Auguste',\n",
       " 'Bartholdi',\n",
       " 'on',\n",
       " 'October',\n",
       " '28',\n",
       " ',',\n",
       " '1886',\n",
       " '.']"
      ]
     },
     "execution_count": 4,
     "metadata": {},
     "output_type": "execute_result"
    }
   ],
   "source": [
    "words"
   ]
  },
  {
   "cell_type": "code",
   "execution_count": 5,
   "metadata": {
    "ExecuteTime": {
     "end_time": "2023-02-14T18:13:03.150704Z",
     "start_time": "2023-02-14T18:13:03.053200Z"
    }
   },
   "outputs": [],
   "source": [
    "#To do named entity recognition, we need to do POS tagging\n",
    "tagged_word = nltk.pos_tag(words)"
   ]
  },
  {
   "cell_type": "code",
   "execution_count": 6,
   "metadata": {},
   "outputs": [
    {
     "data": {
      "text/plain": [
       "[('The', 'DT'),\n",
       " ('Statue', 'NNP'),\n",
       " ('of', 'IN'),\n",
       " ('Liberty', 'NNP'),\n",
       " ('is', 'VBZ'),\n",
       " ('a', 'DT'),\n",
       " ('colossal', 'JJ'),\n",
       " ('neoclassical', 'JJ'),\n",
       " ('sculpture', 'NN'),\n",
       " ('on', 'IN'),\n",
       " ('Liberty', 'NNP'),\n",
       " ('Island', 'NNP'),\n",
       " ('in', 'IN'),\n",
       " ('New', 'NNP'),\n",
       " ('York', 'NNP'),\n",
       " ('Harbor', 'NNP'),\n",
       " ('in', 'IN'),\n",
       " ('New', 'NNP'),\n",
       " ('York', 'NNP'),\n",
       " (',', ','),\n",
       " ('was', 'VBD'),\n",
       " ('designed', 'VBN'),\n",
       " ('by', 'IN'),\n",
       " ('French', 'JJ'),\n",
       " ('sculptor', 'NN'),\n",
       " ('Frédéric', 'NNP'),\n",
       " ('Auguste', 'NNP'),\n",
       " ('Bartholdi', 'NNP'),\n",
       " ('on', 'IN'),\n",
       " ('October', 'NNP'),\n",
       " ('28', 'CD'),\n",
       " (',', ','),\n",
       " ('1886', 'CD'),\n",
       " ('.', '.')]"
      ]
     },
     "execution_count": 6,
     "metadata": {},
     "output_type": "execute_result"
    }
   ],
   "source": [
    "tagged_word"
   ]
  },
  {
   "cell_type": "code",
   "execution_count": 7,
   "metadata": {
    "ExecuteTime": {
     "end_time": "2023-02-14T18:13:03.800164Z",
     "start_time": "2023-02-14T18:13:03.686536Z"
    }
   },
   "outputs": [],
   "source": [
    "namedEnt = nltk.ne_chunk(tagged_word)"
   ]
  },
  {
   "cell_type": "code",
   "execution_count": 8,
   "metadata": {
    "ExecuteTime": {
     "end_time": "2023-02-14T18:13:07.461693Z",
     "start_time": "2023-02-14T18:13:04.304960Z"
    }
   },
   "outputs": [],
   "source": [
    "namedEnt.draw()"
   ]
  },
  {
   "cell_type": "code",
   "execution_count": 9,
   "metadata": {
    "ExecuteTime": {
     "end_time": "2023-02-14T18:13:08.589603Z",
     "start_time": "2023-02-14T18:13:08.582962Z"
    }
   },
   "outputs": [
    {
     "data": {
      "text/plain": [
       "<bound method Tree.pprint of Tree('S', [('The', 'DT'), ('Statue', 'NNP'), ('of', 'IN'), Tree('GPE', [('Liberty', 'NNP')]), ('is', 'VBZ'), ('a', 'DT'), ('colossal', 'JJ'), ('neoclassical', 'JJ'), ('sculpture', 'NN'), ('on', 'IN'), Tree('ORGANIZATION', [('Liberty', 'NNP'), ('Island', 'NNP')]), ('in', 'IN'), Tree('GPE', [('New', 'NNP'), ('York', 'NNP'), ('Harbor', 'NNP')]), ('in', 'IN'), Tree('GPE', [('New', 'NNP'), ('York', 'NNP')]), (',', ','), ('was', 'VBD'), ('designed', 'VBN'), ('by', 'IN'), Tree('GPE', [('French', 'JJ')]), ('sculptor', 'NN'), Tree('PERSON', [('Frédéric', 'NNP'), ('Auguste', 'NNP'), ('Bartholdi', 'NNP')]), ('on', 'IN'), ('October', 'NNP'), ('28', 'CD'), (',', ','), ('1886', 'CD'), ('.', '.')])>"
      ]
     },
     "execution_count": 9,
     "metadata": {},
     "output_type": "execute_result"
    }
   ],
   "source": [
    "namedEnt.pprint"
   ]
  }
 ],
 "metadata": {
  "kernelspec": {
   "display_name": "Python 3 (ipykernel)",
   "language": "python",
   "name": "python3"
  },
  "language_info": {
   "codemirror_mode": {
    "name": "ipython",
    "version": 3
   },
   "file_extension": ".py",
   "mimetype": "text/x-python",
   "name": "python",
   "nbconvert_exporter": "python",
   "pygments_lexer": "ipython3",
   "version": "3.11.0"
  },
  "varInspector": {
   "cols": {
    "lenName": 16,
    "lenType": 16,
    "lenVar": 40
   },
   "kernels_config": {
    "python": {
     "delete_cmd_postfix": "",
     "delete_cmd_prefix": "del ",
     "library": "var_list.py",
     "varRefreshCmd": "print(var_dic_list())"
    },
    "r": {
     "delete_cmd_postfix": ") ",
     "delete_cmd_prefix": "rm(",
     "library": "var_list.r",
     "varRefreshCmd": "cat(var_dic_list()) "
    }
   },
   "types_to_exclude": [
    "module",
    "function",
    "builtin_function_or_method",
    "instance",
    "_Feature"
   ],
   "window_display": false
  }
 },
 "nbformat": 4,
 "nbformat_minor": 2
}
