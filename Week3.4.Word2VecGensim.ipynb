{
 "cells": [
  {
   "cell_type": "markdown",
   "id": "b9549ead",
   "metadata": {},
   "source": [
    "## 1.Example Vehicle Information"
   ]
  },
  {
   "cell_type": "markdown",
   "id": "7254d78f",
   "metadata": {},
   "source": [
    "### Install Dependencies and Libraries"
   ]
  },
  {
   "cell_type": "code",
   "execution_count": 1,
   "id": "bc08c083",
   "metadata": {},
   "outputs": [],
   "source": [
    "#!pip install --user trafilatura #Trafilatura is a Python package and command-line tool designed to gather text on the Web. \n",
    "#It includes discovery, extraction and text processing components.\n",
    "\n",
    "#!pip install --user tqdm #progress bar\n",
    "\n",
    "#!pip install --user plotly \n",
    "#graphing library makes interactive, publication-quality graphs\n",
    "\n",
    "#!pip install --user datapane # app development platform which gives you everything you need to build internal data analytics products\n",
    "\n",
    "#!pip install --user scikit-learn\n",
    "\n",
    "#!pip install --user gensim \n",
    "#Python library for topic modelling, document indexing and similarity retrieval with large corpora"
   ]
  },
  {
   "cell_type": "code",
   "execution_count": 2,
   "id": "751cef9f",
   "metadata": {},
   "outputs": [],
   "source": [
    "# Text manipulation libraries\n",
    "import re\n",
    "import string\n",
    "import nltk\n",
    "from nltk.corpus import stopwords\n",
    "# nltk.download('stopwords') <-- we run this command to download the stopwords in the project\n",
    "# nltk.download('punkt') <-- essential for tokenization"
   ]
  },
  {
   "cell_type": "code",
   "execution_count": 3,
   "id": "ec0ab84a",
   "metadata": {},
   "outputs": [],
   "source": [
    "def preprocess_text(text: str, remove_stopwords: bool) -> str:\n",
    "    \"\"\"Function that cleans the input text by going to:\n",
    "    - remove links\n",
    "    - remove special characters\n",
    "    - remove numbers\n",
    "    - remove stopwords\n",
    "    - convert to lowercase\n",
    "    - remove excessive white spaces\n",
    "    Arguments:\n",
    "        text (str): text to clean\n",
    "        remove_stopwords (bool): whether to remove stopwords\n",
    "    Returns:\n",
    "        str: cleaned text\n",
    "    \"\"\"\n",
    "    # remove links\n",
    "    text = re.sub(r\"http\\S+\", \"\", text)\n",
    "    # remove numbers and special characters\n",
    "    text = re.sub(\"[^A-Za-z]+\", \" \", text)\n",
    "    # remove stopwords\n",
    "    if remove_stopwords:\n",
    "        # 1. create tokens\n",
    "        tokens = nltk.word_tokenize(text)\n",
    "        # 2. check if it's a stopword\n",
    "        tokens = [w.lower().strip() for w in tokens if not w.lower() in stopwords.words(\"italian\")]\n",
    "        # return a list of cleaned tokens\n",
    "        return tokens"
   ]
  },
  {
   "cell_type": "code",
   "execution_count": 4,
   "id": "bc231e0a",
   "metadata": {},
   "outputs": [],
   "source": [
    "import pandas as pd"
   ]
  },
  {
   "cell_type": "code",
   "execution_count": 5,
   "id": "4205c9cb",
   "metadata": {},
   "outputs": [
    {
     "data": {
      "text/html": [
       "<div>\n",
       "<style scoped>\n",
       "    .dataframe tbody tr th:only-of-type {\n",
       "        vertical-align: middle;\n",
       "    }\n",
       "\n",
       "    .dataframe tbody tr th {\n",
       "        vertical-align: top;\n",
       "    }\n",
       "\n",
       "    .dataframe thead th {\n",
       "        text-align: right;\n",
       "    }\n",
       "</style>\n",
       "<table border=\"1\" class=\"dataframe\">\n",
       "  <thead>\n",
       "    <tr style=\"text-align: right;\">\n",
       "      <th></th>\n",
       "      <th>Make</th>\n",
       "      <th>Model</th>\n",
       "      <th>Year</th>\n",
       "      <th>Engine Fuel Type</th>\n",
       "      <th>Engine HP</th>\n",
       "      <th>Engine Cylinders</th>\n",
       "      <th>Transmission Type</th>\n",
       "      <th>Driven_Wheels</th>\n",
       "      <th>Number of Doors</th>\n",
       "      <th>Market Category</th>\n",
       "      <th>Vehicle Size</th>\n",
       "      <th>Vehicle Style</th>\n",
       "      <th>highway MPG</th>\n",
       "      <th>city mpg</th>\n",
       "      <th>Popularity</th>\n",
       "      <th>MSRP</th>\n",
       "    </tr>\n",
       "  </thead>\n",
       "  <tbody>\n",
       "    <tr>\n",
       "      <th>0</th>\n",
       "      <td>BMW</td>\n",
       "      <td>1 Series M</td>\n",
       "      <td>2011</td>\n",
       "      <td>premium unleaded (required)</td>\n",
       "      <td>335.0</td>\n",
       "      <td>6.0</td>\n",
       "      <td>MANUAL</td>\n",
       "      <td>rear wheel drive</td>\n",
       "      <td>2.0</td>\n",
       "      <td>Factory Tuner,Luxury,High-Performance</td>\n",
       "      <td>Compact</td>\n",
       "      <td>Coupe</td>\n",
       "      <td>26</td>\n",
       "      <td>19</td>\n",
       "      <td>3916</td>\n",
       "      <td>46135</td>\n",
       "    </tr>\n",
       "    <tr>\n",
       "      <th>1</th>\n",
       "      <td>BMW</td>\n",
       "      <td>1 Series</td>\n",
       "      <td>2011</td>\n",
       "      <td>premium unleaded (required)</td>\n",
       "      <td>300.0</td>\n",
       "      <td>6.0</td>\n",
       "      <td>MANUAL</td>\n",
       "      <td>rear wheel drive</td>\n",
       "      <td>2.0</td>\n",
       "      <td>Luxury,Performance</td>\n",
       "      <td>Compact</td>\n",
       "      <td>Convertible</td>\n",
       "      <td>28</td>\n",
       "      <td>19</td>\n",
       "      <td>3916</td>\n",
       "      <td>40650</td>\n",
       "    </tr>\n",
       "    <tr>\n",
       "      <th>2</th>\n",
       "      <td>BMW</td>\n",
       "      <td>1 Series</td>\n",
       "      <td>2011</td>\n",
       "      <td>premium unleaded (required)</td>\n",
       "      <td>300.0</td>\n",
       "      <td>6.0</td>\n",
       "      <td>MANUAL</td>\n",
       "      <td>rear wheel drive</td>\n",
       "      <td>2.0</td>\n",
       "      <td>Luxury,High-Performance</td>\n",
       "      <td>Compact</td>\n",
       "      <td>Coupe</td>\n",
       "      <td>28</td>\n",
       "      <td>20</td>\n",
       "      <td>3916</td>\n",
       "      <td>36350</td>\n",
       "    </tr>\n",
       "    <tr>\n",
       "      <th>3</th>\n",
       "      <td>BMW</td>\n",
       "      <td>1 Series</td>\n",
       "      <td>2011</td>\n",
       "      <td>premium unleaded (required)</td>\n",
       "      <td>230.0</td>\n",
       "      <td>6.0</td>\n",
       "      <td>MANUAL</td>\n",
       "      <td>rear wheel drive</td>\n",
       "      <td>2.0</td>\n",
       "      <td>Luxury,Performance</td>\n",
       "      <td>Compact</td>\n",
       "      <td>Coupe</td>\n",
       "      <td>28</td>\n",
       "      <td>18</td>\n",
       "      <td>3916</td>\n",
       "      <td>29450</td>\n",
       "    </tr>\n",
       "    <tr>\n",
       "      <th>4</th>\n",
       "      <td>BMW</td>\n",
       "      <td>1 Series</td>\n",
       "      <td>2011</td>\n",
       "      <td>premium unleaded (required)</td>\n",
       "      <td>230.0</td>\n",
       "      <td>6.0</td>\n",
       "      <td>MANUAL</td>\n",
       "      <td>rear wheel drive</td>\n",
       "      <td>2.0</td>\n",
       "      <td>Luxury</td>\n",
       "      <td>Compact</td>\n",
       "      <td>Convertible</td>\n",
       "      <td>28</td>\n",
       "      <td>18</td>\n",
       "      <td>3916</td>\n",
       "      <td>34500</td>\n",
       "    </tr>\n",
       "  </tbody>\n",
       "</table>\n",
       "</div>"
      ],
      "text/plain": [
       "  Make       Model  Year             Engine Fuel Type  Engine HP  \\\n",
       "0  BMW  1 Series M  2011  premium unleaded (required)      335.0   \n",
       "1  BMW    1 Series  2011  premium unleaded (required)      300.0   \n",
       "2  BMW    1 Series  2011  premium unleaded (required)      300.0   \n",
       "3  BMW    1 Series  2011  premium unleaded (required)      230.0   \n",
       "4  BMW    1 Series  2011  premium unleaded (required)      230.0   \n",
       "\n",
       "   Engine Cylinders Transmission Type     Driven_Wheels  Number of Doors  \\\n",
       "0               6.0            MANUAL  rear wheel drive              2.0   \n",
       "1               6.0            MANUAL  rear wheel drive              2.0   \n",
       "2               6.0            MANUAL  rear wheel drive              2.0   \n",
       "3               6.0            MANUAL  rear wheel drive              2.0   \n",
       "4               6.0            MANUAL  rear wheel drive              2.0   \n",
       "\n",
       "                         Market Category Vehicle Size Vehicle Style  \\\n",
       "0  Factory Tuner,Luxury,High-Performance      Compact         Coupe   \n",
       "1                     Luxury,Performance      Compact   Convertible   \n",
       "2                Luxury,High-Performance      Compact         Coupe   \n",
       "3                     Luxury,Performance      Compact         Coupe   \n",
       "4                                 Luxury      Compact   Convertible   \n",
       "\n",
       "   highway MPG  city mpg  Popularity   MSRP  \n",
       "0           26        19        3916  46135  \n",
       "1           28        19        3916  40650  \n",
       "2           28        20        3916  36350  \n",
       "3           28        18        3916  29450  \n",
       "4           28        18        3916  34500  "
      ]
     },
     "execution_count": 5,
     "metadata": {},
     "output_type": "execute_result"
    }
   ],
   "source": [
    "df = pd.read_csv('vehicle_data.csv')\n",
    "df.head()"
   ]
  },
  {
   "cell_type": "markdown",
   "id": "5dcd1e5d",
   "metadata": {},
   "source": [
    "### Data Preprocessing"
   ]
  },
  {
   "cell_type": "markdown",
   "id": "d3b516a3",
   "metadata": {},
   "source": [
    "#### Genism word2vec requires that a format of ‘list of lists’ for training where every document is contained in a list and every list contains lists of tokens of that document"
   ]
  },
  {
   "cell_type": "code",
   "execution_count": 6,
   "id": "79ad9d11",
   "metadata": {},
   "outputs": [],
   "source": [
    "#a. Create a new column for Make Model\n",
    "df['Maker_Model']= df['Make']+ \" \" + df['Model']"
   ]
  },
  {
   "cell_type": "code",
   "execution_count": 7,
   "id": "49f7540e",
   "metadata": {},
   "outputs": [
    {
     "data": {
      "text/plain": [
       "[['premium unleaded (required)',\n",
       "  'MANUAL',\n",
       "  'rear wheel drive',\n",
       "  'Factory Tuner',\n",
       "  'Luxury',\n",
       "  'High-Performance',\n",
       "  'Compact',\n",
       "  'Coupe',\n",
       "  'BMW 1 Series M'],\n",
       " ['premium unleaded (required)',\n",
       "  'MANUAL',\n",
       "  'rear wheel drive',\n",
       "  'Luxury',\n",
       "  'Performance',\n",
       "  'Compact',\n",
       "  'Convertible',\n",
       "  'BMW 1 Series']]"
      ]
     },
     "execution_count": 7,
     "metadata": {},
     "output_type": "execute_result"
    }
   ],
   "source": [
    "#b. Generate a format of ‘ list of lists’ for each Make Model with the following features: Engine Fuel Type, \n",
    "#Transmission Type, Driven_Wheels, Market Category, Vehicle Size, Vehicle Style.\n",
    "# Select features from original dataset to form a new dataframe \n",
    "df1 = df[['Engine Fuel Type','Transmission Type','Driven_Wheels','Market Category','Vehicle Size', 'Vehicle Style', 'Maker_Model']]\n",
    "# For each row, combine all the columns into one column\n",
    "df2 = df1.apply(lambda x: ','.join(x.astype(str)), axis=1)\n",
    "# Store them in a pandas dataframe\n",
    "df_clean = pd.DataFrame({'clean': df2})\n",
    "# Create the list of list format of the custom corpus for gensim modeling \n",
    "sent = [row.split(',') for row in df_clean['clean']]\n",
    "# show the example of list of list format of the custom corpus for gensim modeling \n",
    "sent[0:2]"
   ]
  },
  {
   "cell_type": "markdown",
   "id": "6e88b5d1",
   "metadata": {},
   "source": [
    "### Genism word2vec Model Training"
   ]
  },
  {
   "cell_type": "code",
   "execution_count": 8,
   "id": "4a0685f3",
   "metadata": {},
   "outputs": [],
   "source": [
    "from gensim.models import Word2Vec"
   ]
  },
  {
   "cell_type": "code",
   "execution_count": 9,
   "id": "4fafa263",
   "metadata": {},
   "outputs": [],
   "source": [
    "model = Word2Vec(sent, min_count=1, vector_size= 50, workers=3, window=3, sg=1)"
   ]
  },
  {
   "cell_type": "markdown",
   "id": "839957bf",
   "metadata": {},
   "source": [
    "size: The number of dimensions of the embeddings and the default is 100.\n",
    "\n",
    "window: The maximum distance between a target word and words around the target word. The default window is 5.\n",
    "\n",
    "min_count: The minimum count of words to consider when training the model; words with occurrence less than this count will be ignored. The default for min_count is 5.\n",
    "\n",
    "workers: The number of partitions during training and the default workers is 3.\n",
    "\n",
    "sg: The training algorithm, either CBOW(0) or skip gram(1). The default training algorithm is CBOW."
   ]
  },
  {
   "cell_type": "code",
   "execution_count": 10,
   "id": "c47b8619",
   "metadata": {},
   "outputs": [
    {
     "data": {
      "text/plain": [
       "array([-0.06447092,  0.03368214,  0.08907529, -0.00988199, -0.05456775,\n",
       "       -0.29894567, -0.09596105,  0.31284606, -0.03423645, -0.16342698,\n",
       "        0.16276276,  0.01470755, -0.0644301 , -0.02556136,  0.01488294,\n",
       "        0.19470763,  0.18321532,  0.10991536,  0.01668741, -0.37514982,\n",
       "       -0.03045461,  0.02985105,  0.24281603, -0.0188671 ,  0.18125793,\n",
       "        0.03453473, -0.23241971,  0.3380392 ,  0.06438169, -0.17859639,\n",
       "       -0.07001738,  0.12877147, -0.02074502,  0.17828555,  0.03972047,\n",
       "       -0.07479623,  0.14473233,  0.02136263,  0.1473942 ,  0.16656908,\n",
       "        0.07943633,  0.03851018, -0.25410762,  0.07089072,  0.21949013,\n",
       "        0.02474001, -0.12547262, -0.03874231,  0.05473589,  0.09995588],\n",
       "      dtype=float32)"
      ]
     },
     "execution_count": 10,
     "metadata": {},
     "output_type": "execute_result"
    }
   ],
   "source": [
    "#we can obtain the word embedding directly from the training model as following\n",
    "model.wv['BMW 1 Series']"
   ]
  },
  {
   "cell_type": "code",
   "execution_count": 11,
   "id": "919055f6",
   "metadata": {},
   "outputs": [
    {
     "data": {
      "text/plain": [
       "array([ 0.02073421,  0.1498057 ,  0.01030488, -0.12890576, -0.06331267,\n",
       "       -0.21266186,  0.00908569,  0.2509053 , -0.1551299 , -0.0699002 ,\n",
       "       -0.01457829,  0.01222638,  0.0484973 , -0.06282432, -0.05556518,\n",
       "        0.16408917,  0.14385964,  0.311455  , -0.13700299, -0.2993097 ,\n",
       "       -0.01819991, -0.04954226,  0.26744488,  0.10026886,  0.1775645 ,\n",
       "       -0.02798099, -0.02493814,  0.35560793, -0.05148494,  0.01249023,\n",
       "        0.02705731,  0.03829135,  0.0582683 , -0.08130286,  0.07058342,\n",
       "       -0.15130651,  0.19558574,  0.02692135,  0.05195242,  0.04589207,\n",
       "        0.08190273, -0.10725226, -0.19352484,  0.08257486,  0.3428256 ,\n",
       "        0.07830502, -0.02105589, -0.13325578,  0.02691586,  0.00856031],\n",
       "      dtype=float32)"
      ]
     },
     "execution_count": 11,
     "metadata": {},
     "output_type": "execute_result"
    }
   ],
   "source": [
    "model.wv['Toyota Camry']"
   ]
  },
  {
   "cell_type": "markdown",
   "id": "8c8a10e1",
   "metadata": {},
   "source": [
    "### Compute Similarities"
   ]
  },
  {
   "cell_type": "code",
   "execution_count": 12,
   "id": "1c7d73e0",
   "metadata": {},
   "outputs": [
    {
     "data": {
      "text/plain": [
       "0.74666965"
      ]
     },
     "execution_count": 12,
     "metadata": {},
     "output_type": "execute_result"
    }
   ],
   "source": [
    "model.wv.similarity('BMW 1 Series','Toyota Camry')"
   ]
  },
  {
   "cell_type": "code",
   "execution_count": 13,
   "id": "64c0e5ed",
   "metadata": {},
   "outputs": [
    {
     "data": {
      "text/plain": [
       "0.8981883"
      ]
     },
     "execution_count": 13,
     "metadata": {},
     "output_type": "execute_result"
    }
   ],
   "source": [
    "model.wv.similarity('BMW 1 Series','BMW 1 Series M')"
   ]
  },
  {
   "cell_type": "code",
   "execution_count": 14,
   "id": "37845ad8",
   "metadata": {},
   "outputs": [
    {
     "data": {
      "text/plain": [
       "[('Ferrari F430', 0.9848706722259521),\n",
       " ('Nissan 350Z', 0.9819698929786682),\n",
       " ('BMW Z4', 0.981057345867157),\n",
       " ('Mazda MX-5 Miata', 0.9805260300636292),\n",
       " ('Ferrari 575M', 0.9801815152168274),\n",
       " ('Pontiac Solstice', 0.9801721572875977),\n",
       " ('Lamborghini Murcielago', 0.9786002039909363),\n",
       " ('Mazda RX-8', 0.9761828780174255),\n",
       " ('Audi R8', 0.9754549860954285),\n",
       " ('Lotus Elise', 0.9746772646903992)]"
      ]
     },
     "execution_count": 14,
     "metadata": {},
     "output_type": "execute_result"
    }
   ],
   "source": [
    "model.wv.most_similar('BMW 1 Series')"
   ]
  },
  {
   "cell_type": "code",
   "execution_count": 15,
   "id": "acb19f69",
   "metadata": {},
   "outputs": [],
   "source": [
    "import numpy as np\n",
    "from numpy import dot\n",
    "from numpy.linalg import norm"
   ]
  },
  {
   "cell_type": "code",
   "execution_count": 16,
   "id": "7a3fa9e2",
   "metadata": {},
   "outputs": [],
   "source": [
    "def cosine_distance (model, word,target_list , num) :\n",
    "    cosine_dict ={}\n",
    "    word_list = []\n",
    "    a = model.wv[word]\n",
    "    for item in target_list :\n",
    "        if item != word :\n",
    "            b = model.wv[item]\n",
    "            cos_sim = dot(a, b)/(norm(a)*norm(b))\n",
    "            cosine_dict[item] = cos_sim\n",
    "    dist_sort=sorted(cosine_dict.items(), key=lambda dist: dist[1],reverse = True) ## in Descedning order \n",
    "    for item in dist_sort:\n",
    "        word_list.append((item[0], item[1]))\n",
    "    return word_list[0:num]"
   ]
  },
  {
   "cell_type": "code",
   "execution_count": 17,
   "id": "9bdf4e9a",
   "metadata": {},
   "outputs": [
    {
     "data": {
      "text/plain": [
       "[('Audi S3', 0.99044716),\n",
       " ('Pontiac Solstice', 0.9887829),\n",
       " ('Subaru BRZ', 0.9868054),\n",
       " ('Mercedes-Benz CLK-Class', 0.98652834),\n",
       " ('Aston Martin DB7', 0.9856698)]"
      ]
     },
     "execution_count": 17,
     "metadata": {},
     "output_type": "execute_result"
    }
   ],
   "source": [
    "Maker_Model = list(df.Maker_Model.unique()) \n",
    "# Show the most similar Mercedes-Benz SLK-Class by cosine distance \n",
    "cosine_distance (model,'Mercedes-Benz SLK-Class',Maker_Model,5)"
   ]
  },
  {
   "cell_type": "markdown",
   "id": "bd0d31ac",
   "metadata": {},
   "source": [
    "## 2. Example Reading a Wikipedia Page"
   ]
  },
  {
   "cell_type": "code",
   "execution_count": 18,
   "id": "780c08dc",
   "metadata": {},
   "outputs": [],
   "source": [
    "import urllib\n",
    "import bs4 as bs"
   ]
  },
  {
   "cell_type": "code",
   "execution_count": 19,
   "id": "85d92fc2",
   "metadata": {},
   "outputs": [],
   "source": [
    "source = urllib.request.urlopen ('https://en.wikipedia.org/wiki/Fourth_Industrial_Revolution').read() #we have the source"
   ]
  },
  {
   "cell_type": "code",
   "execution_count": 20,
   "id": "79bfe2d4",
   "metadata": {},
   "outputs": [],
   "source": [
    "soup = bs.BeautifulSoup(source,'lxml') #we have to parse the source and lxml parser"
   ]
  },
  {
   "cell_type": "markdown",
   "id": "1022df9e",
   "metadata": {},
   "source": [
    "#### Preprocess"
   ]
  },
  {
   "cell_type": "code",
   "execution_count": 21,
   "id": "5234fb75",
   "metadata": {},
   "outputs": [],
   "source": [
    "text = \"\"\n",
    "for paragraph in soup.find_all('p'):\n",
    "    text+=paragraph.text\n",
    "#preprocess\n",
    "text = re.sub (r'\\[[0-9]*\\]',' ', text)\n",
    "text=re.sub(r'\\s+',' ', text)\n",
    "text=text.lower()\n",
    "#text = re.sub(r'\\W',' ',text)\n",
    "text = re.sub(r'[@#$&%\\*\\(\\)\\>\\<\\?\\'\\\":;\\]\\[-]',' ', text)\n",
    "text=re.sub(r'\\d',' ', text)\n",
    "text = re.sub(r'\\s+',' ',text)"
   ]
  },
  {
   "cell_type": "code",
   "execution_count": 22,
   "id": "b84f1aa2",
   "metadata": {},
   "outputs": [
    {
     "data": {
      "text/plain": [
       "' south asia middle east europe north america the fourth industrial revolution, ir, or industry . , conceptualises rapid change to technology, industries, and societal patterns and processes in the st century due to increasing interconnectivity and smart automation. the term was popularised in by klaus schwab, the world economic forum founder and executive chairman, and has since been used in numerous economic, political, and scientific articles in reference to the current era of emerging high technology. schwab asserts that the changes seen are more than just improvements to efficiency, but express a significant shift in industrial capitalism. a part of this phase of industrial change is the joining of technologies like artificial intelligence, gene editing, to advanced robotics that blur the lines between the physical, digital, and biological worlds. throughout this, fundamental shifts are taking place in how the global production and supply network operates through ongoing automation of traditional manufacturing and industrial practices, using modern smart technology, large scale machine to machine communication m m , and the internet of things iot . this integration results in increasing automation, improving communication and self monitoring, and the use of smart machines that can analyse and diagnose issues without the need for human intervention. it also represents a social, political, and economic shift from the digital age of the late s and early s to an era of embedded connectivity distinguished by the omni use and commonness of technological use throughout society e.g. a metaverse that changes the ways humans experience and know the world around them. it posits that we have created and are entering an augmented social reality compared to just the natural senses and industrial ability of humans alone. the fourth industrial revolution is expected to be followed by a fifth industrial revolution. the phrase fourth industrial revolution was first introduced by a team of scientists developing a high tech strategy for the german government. klaus schwab, executive chairman of the world economic forum wef , introduced the phrase to a wider audience in a article published by foreign affairs. mastering the fourth industrial revolution was the theme of the world economic forum annual meeting, in davos klosters, switzerland. on october , the forum announced the opening of its centre for the fourth industrial revolution in san francisco. this was also subject and title of schwab s book. schwab includes in this fourth era technologies that combine hardware, software, and biology cyber physical systems , and emphasises advances in communication and connectivity. schwab expects this era to be marked by breakthroughs in emerging technologies in fields such as robotics, artificial intelligence, nanotechnology, quantum computing, biotechnology, the internet of things, the industrial internet of things, decentralised consensus, fifth generation wireless technologies, d printing, and fully autonomous vehicles. in the great reset proposal by the wef, the fourth industrial revolution is included as a strategic intelligence in the solution to rebuild the economy sustainably following the covid pandemic. the first industrial revolution was marked by a transition from hand production methods to machines through the use of steam power and water power. the implementation of new technologies took a long time, so the period which this refers to was between and , or in europe and the united states. its effects had consequences on textile manufacturing, which was first to adopt such changes, as well as iron industry, agriculture, and mining although it also had societal effects with an ever stronger middle class. the second industrial revolution, also known as the technological revolution, is the period between and that resulted from installations of extensive railroad and telegraph networks, which allowed for faster transfer of people and ideas, as well as electricity. increasing electrification allowed for factories to develop the modern production line. it was a period of great economic growth, with an increase in productivity, which also caused a surge in unemployment since many factory workers were replaced by machines. the third industrial revolution, also known as the digital revolution, occurred in the late th century, after the end of the two world wars, resulting from a slowdown of industrialisation and technological advancement compared to previous periods. the production of the z computer, which used binary floating point numbers and boolean logic, a decade later, was the beginning of more advanced digital developments. the next significant development in communication technologies was the supercomputer, with extensive use of computer and communication technologies in the production process machinery began to abrogate the need for human power. in essence, the fourth industrial revolution is the trend towards automation and data exchange in manufacturing technologies and processes which include cyber physical systems cps , iot, industrial internet of things, cloud computing, cognitive computing, and artificial intelligence. the machines cannot replace the deep expertise but they tend to be more efficient than humans in performing repetitive functions, and the combination of machine learning and computational power allows machines to carry out highly complicated tasks. the fourth industrial revolution has been defined as technological developments in cyber physical systems such as high capacity connectivity new human machine interaction modes such as touch interfaces and virtual reality systems and improvements in transferring digital instructions to the physical world including robotics and d printing additive manufacturing the internet of things iot big data and cloud computing artificial intelligence based systems improvements to and uptake of off grid / stand alone renewable energy systems solar, wind, wave, hydroelectric and the electric batteries lithium ion renewable energy storage systems ess and ev . the fourth industrial revolution marks the beginning of the imagination age. industry . increases operational efficiency. four themes are presented that summarise an industry . proponents of the fourth industrial revolution suggest it is a distinct revolution rather than simply a prolongation of the third industrial revolution. this is due to the following characteristics critics of the concept dismiss industry . as a marketing strategy. they suggest that although revolutionary changes are identifiable in distinct sectors, there is no systemic change so far. in addition, the pace of recognition of industry . and policy transition varies across countries the definition of industry . is not harmonised. one of the most known figures is jeremy rifkin who agree s that digitalization is the hallmark and defining technology in what has become known as the third industrial revolution . however, he argues that that the evolution of digitalization has barely begun to run its course and that its new configuration in the form of the internet of things represents the next stage of its development . the application of the fourth industrial revolution operates through mainly these technologies can be summarised into four major components, defining the term industry . or smart factory industry . networks a wide range of new technologies to create value. using cyber physical systems that monitor physical processes, a virtual copy of the physical world can be designed. characteristics of cyber physical systems include the ability to make decentralised decisions independently, reaching a high degree of autonomy. the value created in industry . , can be relied upon electronic identification, in which the smart manufacturing require set technologies to be incorporated in the manufacturing process to thus be classified as in the development path of industry . and no longer digitisation. industry . integrates processes vertically, across the entire organisation, including processes in product development, manufacturing, structuring, and service horizontally, industry . includes internal operations from suppliers to customers as well as all key value chain partners. integrating new methods of data collection and analysis–such as through the expansion of existing products or creation of new digitised products–helps companies to generate data on product use to refine products customer satisfaction is a perpetual, multi stage process that requires modification in real time to adapt to the changing needs of consumers smart factory is the vision of a production environment in which production facilities and logistics systems are organised without human intervention. the smart factory is no longer a vision. while different model factories represent the feasible, many enterprises already clarify with examples practically, how the smart factory functions. the technical foundations on which the smart factory – the intelligent factory – is based are cyber physical systems that communicate with each other using the internet of things and services. an important part of this process is the exchange of data between the product and the production line. this enables a much more efficient connection of the supply chain and better organisation within any production environment. the fourth industrial revolution fosters what has been called a smart factory . within modular structured smart factories, cyber physical systems monitor physical processes, create a virtual copy of the physical world and make decentralised decisions. over the internet of things, cyber physical systems communicate and cooperate with each other and with humans in synchronic time both internally and across organizational services offered and used by participants of the value chain. industry . can also provide predictive maintenance, due to the use of technology and the iot sensors. predictive maintenance – which can identify maintenance issues in real time – allows machine owners to perform cost effective maintenance and determine it ahead of time before the machinery fails or gets damaged. for example, a company in los angeles could understand if a piece of equipment in singapore is running at an abnormal speed or temperature. they could then decide whether or not it needs to be repaired. the fourth industrial revolution is said to have extensive dependency on d printing technology. some advantages of d printing for industry are that d printing can print many geometric structures, as well as simplify the product design process. it is also relatively environmentally friendly. in low volume production, it can also decrease lead times and total production costs. moreover, it can increase flexibility, reduce warehousing costs and help the company towards the adoption of a mass customisation business strategy. in addition, d printing can be very useful for printing spare parts and installing it locally, therefore reducing supplier dependence and reducing the supply lead time. the determining factor is the pace of change. the correlation of the speed of technological development and, as a result, socio economic and infrastructural transformations with human life allows one to state a qualitative leap in the speed of development, which marks a transition to a new time era. sensors and instrumentation drive the central forces of innovation, not only for industry . but also for other smart megatrends, such as smart production, smart mobility, smart homes, smart cities, and smart factories. smart sensors are devices, which generate the data and allow further functionality from self monitoring and self configuration to condition monitoring of complex processes. with the capability of wireless communication, they reduce installation effort to a great extent and help realise a dense array of sensors. the importance of sensors, measurement science, and smart evaluation for industry . has been recognised and acknowledged by various experts and has already led to the statement industry . nothing goes without sensor systems. however, there are a few issues, such as time synchronisation error, data loss, and dealing with large amounts of harvested data, which all limit the implementation of full fledged systems. moreover, additional limits on these functionalities represents the battery power. one example of the integration of smart sensors in the electronic devices, is the case of smart watches, where sensors receive the data from the movement of the user, process the data and as a result, provide the user with the information about how many steps they have walked in a day and also converts the data into calories burned. smart sensors in these two fields are still in the testing stage. these innovative connected sensors collect, interpret and communicate the information available in the plots leaf area, vegetation index, chlorophyll, hygrometry, temperature, water potential, radiation . based on this scientific data, the objective is to enable real time monitoring via a smartphone with a range of advice that optimises plot management in terms of results, time and costs. on the farm, these sensors can be used to detect crop stages and recommend inputs and treatments at the right time. as well as controlling the level of irrigation. the food industry requires more and more security and transparency and full documentation is required. this new technology is used as a tracking system as well as the collection of human data and product data. knowledge economy is an economic system in which production and services are largely based on knowledge intensive activities that contribute to an accelerated pace of technical and scientific advance, as well as rapid obsolescence. industry . aids transitions into knowledge economy by increasing reliance on intellectual capabilities than on physical inputs or natural resources. challenges in implementation of industry . many countries have set up institutional mechanisms to foster the adoption of industry . technologies. for example, australia has a digital transformation agency est. and the prime minister s industry . taskforce est. , which promotes collaboration with industry groups in germany and the usa. the term industrie . , shortened to i . or simply i , originated in from a project in the high tech strategy of the german government and specifically relates to that project policy, rather than a wider notion of a fourth industrial revolution of ir, which promotes the computerisation of manufacturing. the term industrie . was publicly introduced in the same year at the hannover fair. renowned german professor wolfgang wahlster is sometimes called the inventor of the industry . term. in october , the working group on industry . presented a set of industry . implementation recommendations to the german federal government. the workgroup members and partners are recognised as the founding fathers and driving force behind industry . . on april at the hannover fair, the final report of the working group industry . was presented. this working group was headed by siegfried dais, of robert bosch gmbh, and henning kagermann, of the german academy of science and engineering. as industry . principles have been applied by companies, they have sometimes been rebranded. for example, the aerospace parts manufacturer meggitt plc has branded its own industry . research project m . the discussion of how the shift to industry . , especially digitisation, will affect the labour market is being discussed in germany under the topic of work . . the federal government in germany through its ministries of the bmbf and bmwi, is a leader in the development of the i . policy. through the publishing of set objectives and goals for enterprises to achieve, the german federal government attempts to set the direction of the digital transformation. however, there is a gap between german enterprise s collaboration and knowledge of these set policies. the biggest challenge which smes in germany are currently facing regarding digital transformation of their manufacturing processes is ensuring that there is a concrete it and application landscape to support further digital transformation efforts. the characteristics of the german government s industry . strategy involve the strong customisation of products under the conditions of highly flexible mass production. the required automation technology is improved by the introduction of methods of self optimization, self configuration, self diagnosis, cognition and intelligent support of workers in their increasingly complex work. the largest project in industry . as of july is the german federal ministry of education and research bmbf leading edge cluster intelligent technical systems ostwestfalen lippe its owl . another major project is the bmbf project res com, as well as the cluster of excellence integrative production technology for high wage countries . in , the european commission started the international horizon research project crema providing cloud based rapid elastic manufacturing based on the xaas and cloud model as a major initiative to foster the industry . topic. in estonia, the digital transformation dubbed as the th industrial revolution by klaus schwab and the world economic forum in started with the restoration of independence in . although a latecomer to the information revolution due to years of soviet occupation, estonia leapfrogged to the digital era, while skipping the analogue connections almost completely. the early decisions made by prime minister mart laar on the course of the country s economic development led to the establishment of what is today known as e estonia, one of the worlds most digitally advanced nations. according to the goals set in the estonia s digital agenda , next leaps in the country s digital transformation will be switching to event based and proactive services, both in private and business environment, as well as developing a green, ai powered and human centric digital government. another example is making indonesia . , with a focus on improving industrial performance. south africa appointed a presidential commission on the fourth industrial revolution in , consisting of about stakeholders with a background in academia, industry and government. south africa has also established an inter ministerial committee on industry . . the republic of korea has had a presidential committee on the fourth industrial revolution since . the republic of korea s i korea strategy is focusing on new growth engines that include ai, drones and autonomous cars, in line with the government s innovation driven economic policy. see science and technology in spain uganda adopted its own national ir strategy in october with emphasis on e governance, urban management smart cities , health care, education, agriculture and the digital economy to support local businesses, the government was contemplating introducing a local start ups bill in which would require all accounting officers to exhaust the local market prior to procuring digital solutions from abroad. in a policy paper published in , the uk s department for business, energy industrial strategy, titled regulation for the fourth industrial revolution , outlined the need to evolve current regulatory models to remain competitive in evolving technological and social settings. the department of homeland security in published a paper called the industrial internet of things iiot opportunities, risks, mitigation . the base pieces of critical infrastructure are increasingly digitised for greater connectivity and optimisation. hence, its implementation, growth and maintenance must be carefully planned and safeguarded. the paper discusses not only applications of iiot but also the associated risks. it has suggested some key areas where risk mitigation is possible. to increase coordination between the public, private, law enforcement, academia and other stakeholders the dhs formed the national cybersecurity and communications integration center nccic . the aerospace industry has sometimes been characterised as too low volume for extensive automation however, industry . principles have been investigated by several aerospace companies, and technologies have been developed to improve productivity where the upfront cost of automation cannot be justified. one example of this is the aerospace parts manufacturer meggitt plc s m project. the increasing use of the industrial internet of things is referred to as industry . at bosch, and generally in germany. applications include machines that can predict failures and trigger maintenance processes autonomously or self organised coordination that react to unexpected changes in production. in , bosch launched the connectory, a chicago, illinois based innovation incubator that specializes in iot, including industry . . industry . inspired innovation . , a move toward digitisation for academia and research and development. in , the £ m materials innovation factory mif at the university of liverpool opened as a center for computer aided materials science, where robotic formulation, data capture and modelling are being integrated into development practices. with the consistent development on automation of everyday tasks, some saw the benefit in the exact opposite of automation where self made products are valued more than those that involved automation. this valuation is named the ikea effect, a term coined by michael i. norton of harvard business school, daniel mochon of yale, and dan ariely of duke. another problem that is expected to accelerate with the growth of ir is the prevalence of mental disorders. the world has already experienced such problems in hi tech industries. '"
      ]
     },
     "execution_count": 22,
     "metadata": {},
     "output_type": "execute_result"
    }
   ],
   "source": [
    "text"
   ]
  },
  {
   "cell_type": "code",
   "execution_count": 23,
   "id": "1a0360fc",
   "metadata": {},
   "outputs": [],
   "source": [
    "sentences = nltk.sent_tokenize(text)\n",
    "sentences = [nltk.word_tokenize(sentence) for sentence in sentences]\n",
    "for i in range(len(sentences)):\n",
    "    sentences[i]= [word for word in sentences[i] if word not in stopwords.words('english')]"
   ]
  },
  {
   "cell_type": "code",
   "execution_count": 24,
   "id": "864329fc",
   "metadata": {},
   "outputs": [
    {
     "data": {
      "text/plain": [
       "163"
      ]
     },
     "execution_count": 24,
     "metadata": {},
     "output_type": "execute_result"
    }
   ],
   "source": [
    "len(sentences)"
   ]
  },
  {
   "cell_type": "markdown",
   "id": "b5b2d1f7",
   "metadata": {},
   "source": [
    "#### Training the model"
   ]
  },
  {
   "cell_type": "code",
   "execution_count": 25,
   "id": "fbce74e7",
   "metadata": {},
   "outputs": [],
   "source": [
    "model = Word2Vec(sentences, min_count =1)"
   ]
  },
  {
   "cell_type": "code",
   "execution_count": 26,
   "id": "067105cd",
   "metadata": {},
   "outputs": [
    {
     "data": {
      "text/plain": [
       "array([-5.7364377e-04,  3.9552059e-03, -6.4074197e-03, -1.0413430e-03,\n",
       "        7.7163349e-03,  6.4174593e-03, -2.8000311e-03,  4.5726472e-03,\n",
       "       -8.5873343e-03,  5.7762219e-03, -4.9198954e-03, -4.2199288e-03,\n",
       "        8.7718936e-03,  1.4403339e-03,  7.9389811e-03, -6.6882372e-03,\n",
       "        5.6783138e-03,  9.1640223e-03, -8.5356310e-03, -6.5607023e-03,\n",
       "       -6.3396916e-03, -4.3035890e-03, -3.1860634e-03, -8.7836357e-03,\n",
       "        7.4041323e-03, -4.7310246e-03,  7.7854809e-03,  4.8420439e-03,\n",
       "       -7.1041025e-03,  4.1699591e-03,  6.4404714e-03, -7.7084759e-03,\n",
       "       -7.5340648e-03, -3.2839067e-03, -8.6726109e-03, -8.5105142e-04,\n",
       "       -1.9935665e-04,  2.2338305e-03,  6.5691728e-04, -2.2325167e-03,\n",
       "       -5.5763316e-03,  1.5293345e-03, -5.8348686e-04,  7.0068724e-03,\n",
       "        4.5626103e-03,  4.2772144e-03,  9.0620707e-04, -2.5130769e-03,\n",
       "       -3.8148181e-03, -5.4834189e-04,  1.9737973e-03, -3.2327722e-03,\n",
       "       -7.1876701e-03, -7.8278696e-03, -9.9443626e-03, -5.2941791e-03,\n",
       "       -1.1672182e-03, -4.5180963e-03, -7.7502755e-03, -3.6061185e-03,\n",
       "        4.5550917e-03, -3.2872283e-03,  8.5411947e-03,  1.3292182e-03,\n",
       "       -7.9066819e-03,  9.8946299e-03,  7.5684693e-03,  6.3984781e-03,\n",
       "       -7.6094898e-03,  6.4256126e-03,  3.7159116e-03,  5.5069942e-03,\n",
       "        5.2614408e-03,  1.7153994e-03, -2.0308825e-03,  8.4117688e-03,\n",
       "        9.4379019e-03,  3.9117048e-03, -3.5854660e-03, -1.1157525e-05,\n",
       "        4.9717136e-04, -8.5886866e-03, -8.3979545e-03,  8.5797103e-04,\n",
       "        1.2768647e-03, -5.4728794e-03, -4.1940692e-03, -6.3565737e-03,\n",
       "        9.3887672e-03,  9.1311184e-04, -4.0159249e-03,  6.2058996e-03,\n",
       "        9.1268746e-03, -4.3224213e-03,  9.1691948e-03,  6.1667124e-03,\n",
       "        6.2877289e-03, -5.9980043e-04,  8.5948016e-03, -7.4286875e-03],\n",
       "      dtype=float32)"
      ]
     },
     "execution_count": 26,
     "metadata": {},
     "output_type": "execute_result"
    }
   ],
   "source": [
    "#get vectors out of words\n",
    "vectors = model.wv['industry']\n",
    "vectors"
   ]
  },
  {
   "cell_type": "code",
   "execution_count": 27,
   "id": "d5ed1989",
   "metadata": {},
   "outputs": [
    {
     "data": {
      "text/plain": [
       "100"
      ]
     },
     "execution_count": 27,
     "metadata": {},
     "output_type": "execute_result"
    }
   ],
   "source": [
    "len(vectors)"
   ]
  },
  {
   "cell_type": "code",
   "execution_count": 28,
   "id": "ef37a4f5",
   "metadata": {},
   "outputs": [
    {
     "data": {
      "text/plain": [
       "[('wireless', 0.3168924152851105),\n",
       " ('also', 0.29391491413116455),\n",
       " ('mochon', 0.2913605272769928),\n",
       " ('economy', 0.27968281507492065),\n",
       " ('leaf', 0.2555803060531616),\n",
       " ('throughout', 0.25071874260902405),\n",
       " ('new', 0.250529021024704),\n",
       " ('affect', 0.24781370162963867),\n",
       " ('cyber', 0.24382221698760986),\n",
       " ('driven', 0.2421315610408783)]"
      ]
     },
     "execution_count": 28,
     "metadata": {},
     "output_type": "execute_result"
    }
   ],
   "source": [
    "model.wv.most_similar('revolution')"
   ]
  },
  {
   "cell_type": "markdown",
   "id": "c421ca66",
   "metadata": {},
   "source": [
    "### Improve the model, explore some of the pre-trained models"
   ]
  },
  {
   "cell_type": "code",
   "execution_count": 29,
   "id": "e497f007",
   "metadata": {},
   "outputs": [],
   "source": [
    "from gensim.models import KeyedVectors"
   ]
  },
  {
   "cell_type": "code",
   "execution_count": 30,
   "id": "534d0621",
   "metadata": {},
   "outputs": [],
   "source": [
    "filename = \"GoogleNews-vectors-negative300.bin\""
   ]
  },
  {
   "cell_type": "code",
   "execution_count": 31,
   "id": "ade551f2",
   "metadata": {},
   "outputs": [],
   "source": [
    "#Get the model- it is going to take a while with good RAM\n",
    "model = KeyedVectors.load_word2vec_format(filename, binary=True) #bc it is binary file"
   ]
  },
  {
   "cell_type": "code",
   "execution_count": 32,
   "id": "0b17df21",
   "metadata": {},
   "outputs": [
    {
     "data": {
      "text/plain": [
       "[('revolutions', 0.7037398219108582),\n",
       " ('revolutionary', 0.6257899403572083),\n",
       " ('Revolution', 0.5847131013870239),\n",
       " ('revolutionaries', 0.5730563998222351),\n",
       " ('revolt', 0.5643020272254944),\n",
       " ('technological_revolutions', 0.547039270401001),\n",
       " ('counterrevolution', 0.5448992252349854),\n",
       " ('uprisings', 0.5448099970817566),\n",
       " ('bloodless_revolution', 0.5400627851486206),\n",
       " ('uprising', 0.531105637550354)]"
      ]
     },
     "execution_count": 32,
     "metadata": {},
     "output_type": "execute_result"
    }
   ],
   "source": [
    "model.most_similar('revolution')"
   ]
  },
  {
   "cell_type": "code",
   "execution_count": 33,
   "id": "352dc3e3",
   "metadata": {},
   "outputs": [
    {
     "data": {
      "text/plain": [
       "[('queen', 0.7118193507194519),\n",
       " ('monarch', 0.6189674735069275),\n",
       " ('princess', 0.5902431011199951),\n",
       " ('crown_prince', 0.5499460697174072),\n",
       " ('prince', 0.5377321243286133),\n",
       " ('kings', 0.5236844420433044),\n",
       " ('Queen_Consort', 0.5235945582389832),\n",
       " ('queens', 0.518113374710083),\n",
       " ('sultan', 0.5098593831062317),\n",
       " ('monarchy', 0.5087411999702454)]"
      ]
     },
     "execution_count": 33,
     "metadata": {},
     "output_type": "execute_result"
    }
   ],
   "source": [
    "model.most_similar('king')\n",
    "#let's add different vecotrs and negation vectors, and find out\n",
    "model.most_similar (positive = ['king', 'woman'], negative = ['man'])"
   ]
  }
 ],
 "metadata": {
  "kernelspec": {
   "display_name": "venvtext",
   "language": "python",
   "name": "venvtext"
  },
  "language_info": {
   "codemirror_mode": {
    "name": "ipython",
    "version": 3
   },
   "file_extension": ".py",
   "mimetype": "text/x-python",
   "name": "python",
   "nbconvert_exporter": "python",
   "pygments_lexer": "ipython3",
   "version": "3.9.12"
  }
 },
 "nbformat": 4,
 "nbformat_minor": 5
}
