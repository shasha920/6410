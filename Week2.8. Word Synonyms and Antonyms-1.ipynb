{
 "cells": [
  {
   "cell_type": "code",
   "execution_count": 1,
   "metadata": {},
   "outputs": [],
   "source": [
    "#WordNet Lexical Dictionary of English\n",
    "#WordNet is available in NLTK\n",
    "from nltk.corpus import wordnet"
   ]
  },
  {
   "cell_type": "code",
   "execution_count": 2,
   "metadata": {},
   "outputs": [],
   "source": [
    "synomyms = []\n",
    "antonyms = []"
   ]
  },
  {
   "cell_type": "code",
   "execution_count": 3,
   "metadata": {},
   "outputs": [
    {
     "data": {
      "text/plain": [
       "[Synset('work.n.01'),\n",
       " Synset('work.n.02'),\n",
       " Synset('employment.n.02'),\n",
       " Synset('study.n.02'),\n",
       " Synset('work.n.05'),\n",
       " Synset('workplace.n.01'),\n",
       " Synset('oeuvre.n.01'),\n",
       " Synset('work.v.01'),\n",
       " Synset('work.v.02'),\n",
       " Synset('work.v.03'),\n",
       " Synset('function.v.01'),\n",
       " Synset('work.v.05'),\n",
       " Synset('exercise.v.03'),\n",
       " Synset('make.v.36'),\n",
       " Synset('work.v.08'),\n",
       " Synset('work.v.09'),\n",
       " Synset('work.v.10'),\n",
       " Synset('bring.v.03'),\n",
       " Synset('work.v.12'),\n",
       " Synset('cultivate.v.02'),\n",
       " Synset('work.v.14'),\n",
       " Synset('influence.v.01'),\n",
       " Synset('work.v.16'),\n",
       " Synset('work.v.17'),\n",
       " Synset('work.v.18'),\n",
       " Synset('work.v.19'),\n",
       " Synset('shape.v.02'),\n",
       " Synset('work.v.21'),\n",
       " Synset('knead.v.01'),\n",
       " Synset('exploit.v.01'),\n",
       " Synset('solve.v.01'),\n",
       " Synset('ferment.v.03'),\n",
       " Synset('sour.v.01'),\n",
       " Synset('work.v.27')]"
      ]
     },
     "execution_count": 3,
     "metadata": {},
     "output_type": "execute_result"
    }
   ],
   "source": [
    "#correpsnding to each word, we will have bunch of synsets\n",
    "wordnet.synsets(\"work\")"
   ]
  },
  {
   "cell_type": "code",
   "execution_count": 4,
   "metadata": {},
   "outputs": [
    {
     "name": "stdout",
     "output_type": "stream",
     "text": [
      "{'run', 'forge', 'knead', 'go', 'puzzle_out', 'lick', 'ferment', 'put_to_work', 'form', 'do_work', 'sour', 'process', 'body_of_work', 'piece_of_work', 'workplace', 'make', 'work_out', 'exploit', 'figure_out', 'operate', 'play', 'act_upon', 'crop', 'act', 'employment', 'influence', 'study', 'work', 'function', 'wreak', 'mold', 'work_on', 'oeuvre', 'exercise', 'shape', 'mould', 'solve', 'cultivate', 'bring', 'turn', 'make_for'}\n"
     ]
    }
   ],
   "source": [
    "#synonyms for all words\n",
    "for syn in wordnet.synsets(\"work\"):\n",
    "    for s in syn.lemmas(): #s diff words in the synset\n",
    "        synomyms.append(s.name())\n",
    "#but, we want distinct words, so we use set\n",
    "print (set(synomyms))"
   ]
  },
  {
   "cell_type": "code",
   "execution_count": 5,
   "metadata": {},
   "outputs": [
    {
     "data": {
      "text/plain": [
       "[Synset('good.n.01'),\n",
       " Synset('good.n.02'),\n",
       " Synset('good.n.03'),\n",
       " Synset('commodity.n.01'),\n",
       " Synset('good.a.01'),\n",
       " Synset('full.s.06'),\n",
       " Synset('good.a.03'),\n",
       " Synset('estimable.s.02'),\n",
       " Synset('beneficial.s.01'),\n",
       " Synset('good.s.06'),\n",
       " Synset('good.s.07'),\n",
       " Synset('adept.s.01'),\n",
       " Synset('good.s.09'),\n",
       " Synset('dear.s.02'),\n",
       " Synset('dependable.s.04'),\n",
       " Synset('good.s.12'),\n",
       " Synset('good.s.13'),\n",
       " Synset('effective.s.04'),\n",
       " Synset('good.s.15'),\n",
       " Synset('good.s.16'),\n",
       " Synset('good.s.17'),\n",
       " Synset('good.s.18'),\n",
       " Synset('good.s.19'),\n",
       " Synset('good.s.20'),\n",
       " Synset('good.s.21'),\n",
       " Synset('well.r.01'),\n",
       " Synset('thoroughly.r.02')]"
      ]
     },
     "execution_count": 5,
     "metadata": {},
     "output_type": "execute_result"
    }
   ],
   "source": [
    "synomyms = []\n",
    "antonyms = []\n",
    "wordnet.synsets(\"good\")"
   ]
  },
  {
   "cell_type": "code",
   "execution_count": 6,
   "metadata": {},
   "outputs": [
    {
     "name": "stdout",
     "output_type": "stream",
     "text": [
      "syn {'undecomposed', 'well', 'honorable', 'adept', 'ripe', 'secure', 'sound', 'unspoilt', 'skilful', 'safe', 'estimable', 'in_effect', 'near', 'expert', 'serious', 'good', 'in_force', 'practiced', 'effective', 'dependable', 'just', 'dear', 'beneficial', 'unspoiled', 'soundly', 'proficient', 'thoroughly', 'salutary', 'skillful', 'goodness', 'right', 'honest', 'upright', 'respectable', 'commodity', 'trade_good', 'full'}\n",
      "ant {'evilness', 'badness', 'bad', 'evil', 'ill'}\n"
     ]
    }
   ],
   "source": [
    "#antonyms for all words\n",
    "for syn in wordnet.synsets(\"good\"):\n",
    "    for s in syn.lemmas(): #s diff words in the synset\n",
    "        synomyms.append(s.name())\n",
    "        for a in s.antonyms():\n",
    "            antonyms.append(a.name())\n",
    "#but, we want distinct words, so we use set\n",
    "print (\"syn\",set(synomyms))\n",
    "print (\"ant\",set(antonyms))"
   ]
  }
 ],
 "metadata": {
  "kernelspec": {
   "display_name": "Python 3 (ipykernel)",
   "language": "python",
   "name": "python3"
  },
  "language_info": {
   "codemirror_mode": {
    "name": "ipython",
    "version": 3
   },
   "file_extension": ".py",
   "mimetype": "text/x-python",
   "name": "python",
   "nbconvert_exporter": "python",
   "pygments_lexer": "ipython3",
   "version": "3.7.11"
  }
 },
 "nbformat": 4,
 "nbformat_minor": 2
}
